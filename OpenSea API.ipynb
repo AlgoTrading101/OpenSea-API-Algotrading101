{
 "cells": [
  {
   "cell_type": "code",
   "execution_count": null,
   "id": "6aca5e5f",
   "metadata": {},
   "outputs": [],
   "source": [
    "import requests\n",
    "import pandas as pd"
   ]
  },
  {
   "cell_type": "markdown",
   "id": "7168305e",
   "metadata": {},
   "source": [
    "# Assets"
   ]
  },
  {
   "cell_type": "code",
   "execution_count": null,
   "id": "ed0f6d57",
   "metadata": {},
   "outputs": [],
   "source": [
    "assets = pd.DataFrame(requests.get(\"https://api.opensea.io/api/v1/assets?order_direction=desc&offset=0&limit=20\").json()['assets'])\n",
    "assets.head().T"
   ]
  },
  {
   "cell_type": "markdown",
   "id": "f055704d",
   "metadata": {},
   "source": [
    "# Bundles"
   ]
  },
  {
   "cell_type": "code",
   "execution_count": null,
   "id": "3c6e6a6e",
   "metadata": {},
   "outputs": [],
   "source": [
    "bundles = pd.DataFrame(requests.get(\"https://api.opensea.io/api/v1/bundles?limit=10&offset=0\").json()['bundles'])\n",
    "bundles.head().T"
   ]
  },
  {
   "cell_type": "markdown",
   "id": "7eab6768",
   "metadata": {},
   "source": [
    "# Single Asset"
   ]
  },
  {
   "cell_type": "code",
   "execution_count": null,
   "id": "d537db40",
   "metadata": {
    "scrolled": true
   },
   "outputs": [],
   "source": [
    "asset = requests.get(\"https://api.opensea.io/api/v1/asset/0xb47e3cd837ddf8e4c57f05d70ab865de6e193bbb/1/\").json()\n",
    "asset"
   ]
  },
  {
   "cell_type": "code",
   "execution_count": null,
   "id": "f7f1d57c",
   "metadata": {},
   "outputs": [],
   "source": [
    "asset['collection']"
   ]
  },
  {
   "cell_type": "markdown",
   "id": "6ee0c64c",
   "metadata": {},
   "source": [
    "# Obtain a contract"
   ]
  },
  {
   "cell_type": "code",
   "execution_count": null,
   "id": "a4058ffa",
   "metadata": {},
   "outputs": [],
   "source": [
    "requests.get(\"https://api.opensea.io/api/v1/asset_contract/0x06012c8cf97bead5deae237070f9587f8e7a266d\").json()"
   ]
  },
  {
   "cell_type": "markdown",
   "id": "6bc9334c",
   "metadata": {},
   "source": [
    "# Obtain events"
   ]
  },
  {
   "cell_type": "code",
   "execution_count": null,
   "id": "f1ba94b3",
   "metadata": {
    "scrolled": true
   },
   "outputs": [],
   "source": [
    "events = pd.DataFrame(requests.get(\"https://api.opensea.io/api/v1/events?only_opensea=false&offset=0&limit=10\").json()['asset_events'])\n",
    "events.head().T"
   ]
  },
  {
   "cell_type": "markdown",
   "id": "46b1ca25",
   "metadata": {},
   "source": [
    "# Collections"
   ]
  },
  {
   "cell_type": "code",
   "execution_count": null,
   "id": "829fa11d",
   "metadata": {},
   "outputs": [],
   "source": [
    "collections = pd.DataFrame(requests.get(\"https://api.opensea.io/api/v1/collections?offset=0&limit=10\").json()['collections'])\n",
    "collections.head().T"
   ]
  },
  {
   "cell_type": "markdown",
   "id": "f8a6b34c",
   "metadata": {},
   "source": [
    "# Order Book Data"
   ]
  },
  {
   "cell_type": "code",
   "execution_count": null,
   "id": "61e838bb",
   "metadata": {},
   "outputs": [],
   "source": [
    "orders = pd.DataFrame(requests.get(\"https://api.opensea.io/wyvern/v1/orders?bundled=false&include_bundled=false&include_invalid=false&limit=10&offset=0&order_by=created_date&order_direction=desc\",\n",
    "                     headers = {\"Accept\":\"application/json\"}\n",
    "                                ).json()['orders']\n",
    "                     )\n",
    "orders.head().T"
   ]
  }
 ],
 "metadata": {
  "kernelspec": {
   "display_name": "Python 3 (ipykernel)",
   "language": "python",
   "name": "python3"
  },
  "language_info": {
   "codemirror_mode": {
    "name": "ipython",
    "version": 3
   },
   "file_extension": ".py",
   "mimetype": "text/x-python",
   "name": "python",
   "nbconvert_exporter": "python",
   "pygments_lexer": "ipython3",
   "version": "3.8.8"
  }
 },
 "nbformat": 4,
 "nbformat_minor": 5
}
